{
 "cells": [
  {
   "cell_type": "code",
   "execution_count": null,
   "metadata": {},
   "outputs": [],
   "source": [
    "import pandas as pd\n",
    "import matplotlib.pyplot as plt\n",
    "import seaborn as sns\n",
    "\n",
    "# CSV 파일 불러오기\n",
    "file_path = 'WalkvsRun.csv'  # CSV 파일 경로를 여기에 입력하세요.\n",
    "df = pd.read_csv(file_path)\n",
    "\n",
    "# 필요한 열만 선택 (가속도와 자이로스코프 데이터)\n",
    "selected_columns = ['acceleration_x', 'acceleration_y', 'acceleration_z', 'gyro_x', 'gyro_y', 'gyro_z']\n",
    "\n",
    "# 상관 행렬 계산\n",
    "corr_matrix = df[selected_columns].corr()\n",
    "\n",
    "# 상관 행렬 시각화\n",
    "plt.figure(figsize=(10, 8))\n",
    "sns.heatmap(corr_matrix, annot=True, cmap='coolwarm', cbar=True)\n",
    "plt.title('WalkVsRun correlation matrix')\n",
    "plt.show()"
   ]
  }
 ],
 "metadata": {
  "language_info": {
   "name": "python"
  }
 },
 "nbformat": 4,
 "nbformat_minor": 2
}
